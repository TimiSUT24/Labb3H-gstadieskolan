{
    "metadata": {
        "kernelspec": {
            "name": "SQL",
            "display_name": "SQL",
            "language": "sql"
        },
        "language_info": {
            "name": "sql",
            "version": ""
        }
    },
    "nbformat_minor": 2,
    "nbformat": 4,
    "cells": [
        {
            "cell_type": "code",
            "source": [
                "EXECUTE SELECTALLEMPLOYEESSINCATEGORY @POSITION = 'TEACHER'"
            ],
            "metadata": {
                "azdata_cell_guid": "d74b248b-16b2-43db-a3ae-0e5b36d6681a",
                "language": "sql",
                "tags": []
            },
            "outputs": [
                {
                    "output_type": "display_data",
                    "data": {
                        "text/html": "(4 rows affected)"
                    },
                    "metadata": {}
                },
                {
                    "output_type": "display_data",
                    "data": {
                        "text/html": "Total execution time: 00:00:00.011"
                    },
                    "metadata": {}
                },
                {
                    "output_type": "execute_result",
                    "metadata": {},
                    "execution_count": 64,
                    "data": {
                        "application/vnd.dataresource+json": {
                            "schema": {
                                "fields": [
                                    {
                                        "name": "NAME"
                                    },
                                    {
                                        "name": "LASTNAME"
                                    },
                                    {
                                        "name": "EPOST"
                                    },
                                    {
                                        "name": "NUMBER"
                                    },
                                    {
                                        "name": "POSITION"
                                    }
                                ]
                            },
                            "data": [
                                {
                                    "NAME": "INGER",
                                    "LASTNAME": "LARSSON",
                                    "EPOST": "INGER2@GMAIL.COM",
                                    "NUMBER": "072-154-13-34",
                                    "POSITION": "TEACHER"
                                },
                                {
                                    "NAME": "JAN",
                                    "LASTNAME": "ANDER",
                                    "EPOST": "JAN4@GMAIL.COM",
                                    "NUMBER": "072-143-32-22",
                                    "POSITION": "TEACHER"
                                },
                                {
                                    "NAME": "ARAGORN",
                                    "LASTNAME": "PURE",
                                    "EPOST": "ARAGORN@GMAIL.COM",
                                    "NUMBER": "072-144-56-45",
                                    "POSITION": "TEACHER"
                                },
                                {
                                    "NAME": "GIMLI",
                                    "LASTNAME": "FAT",
                                    "EPOST": "GIMLI@GMAIL.COM",
                                    "NUMBER": "072-154-45-43",
                                    "POSITION": "TEACHER"
                                }
                            ]
                        },
                        "text/html": [
                            "<table>",
                            "<tr><th>NAME</th><th>LASTNAME</th><th>EPOST</th><th>NUMBER</th><th>POSITION</th></tr>",
                            "<tr><td>INGER</td><td>LARSSON</td><td>INGER2@GMAIL.COM</td><td>072-154-13-34</td><td>TEACHER</td></tr>",
                            "<tr><td>JAN</td><td>ANDER</td><td>JAN4@GMAIL.COM</td><td>072-143-32-22</td><td>TEACHER</td></tr>",
                            "<tr><td>ARAGORN</td><td>PURE</td><td>ARAGORN@GMAIL.COM</td><td>072-144-56-45</td><td>TEACHER</td></tr>",
                            "<tr><td>GIMLI</td><td>FAT</td><td>GIMLI@GMAIL.COM</td><td>072-154-45-43</td><td>TEACHER</td></tr>",
                            "</table>"
                        ]
                    }
                }
            ],
            "execution_count": 64
        },
        {
            "cell_type": "code",
            "source": [
                "EXECUTE SELECTALLEMPLOYEES"
            ],
            "metadata": {
                "azdata_cell_guid": "41ef5a9c-9d32-4ddd-ad25-9f87901f95c3",
                "language": "sql"
            },
            "outputs": [
                {
                    "output_type": "display_data",
                    "data": {
                        "text/html": "(11 rows affected)"
                    },
                    "metadata": {}
                },
                {
                    "output_type": "display_data",
                    "data": {
                        "text/html": "Total execution time: 00:00:00.004"
                    },
                    "metadata": {}
                },
                {
                    "output_type": "execute_result",
                    "metadata": {},
                    "execution_count": 63,
                    "data": {
                        "application/vnd.dataresource+json": {
                            "schema": {
                                "fields": [
                                    {
                                        "name": "NAME"
                                    },
                                    {
                                        "name": "LASTNAME"
                                    },
                                    {
                                        "name": "EPOST"
                                    },
                                    {
                                        "name": "NUMBER"
                                    },
                                    {
                                        "name": "POSITION"
                                    }
                                ]
                            },
                            "data": [
                                {
                                    "NAME": "INGER",
                                    "LASTNAME": "LARSSON",
                                    "EPOST": "INGER2@GMAIL.COM",
                                    "NUMBER": "072-154-13-34",
                                    "POSITION": "TEACHER"
                                },
                                {
                                    "NAME": "JAN",
                                    "LASTNAME": "ANDER",
                                    "EPOST": "JAN4@GMAIL.COM",
                                    "NUMBER": "072-143-32-22",
                                    "POSITION": "TEACHER"
                                },
                                {
                                    "NAME": "GANDALF",
                                    "LASTNAME": "WHITE",
                                    "EPOST": "GANDALFSAVEFRODO@GMAIL.COM",
                                    "NUMBER": "072-240-00",
                                    "POSITION": "PRINCIPAL"
                                },
                                {
                                    "NAME": "ARAGORN",
                                    "LASTNAME": "PURE",
                                    "EPOST": "ARAGORN@GMAIL.COM",
                                    "NUMBER": "072-144-56-45",
                                    "POSITION": "TEACHER"
                                },
                                {
                                    "NAME": "GIMLI",
                                    "LASTNAME": "FAT",
                                    "EPOST": "GIMLI@GMAIL.COM",
                                    "NUMBER": "072-154-45-43",
                                    "POSITION": "TEACHER"
                                },
                                {
                                    "NAME": "ELENA",
                                    "LASTNAME": "SMITH",
                                    "EPOST": "ELENASMITHCLUB@GMAIL.COM",
                                    "NUMBER": "073-456-78-90",
                                    "POSITION": "CLUB ADVISOR"
                                },
                                {
                                    "NAME": "MARCUS",
                                    "LASTNAME": "JOHNSON",
                                    "EPOST": "MARCUSJOHNSONCLUB@GMAIL.COM",
                                    "NUMBER": "074-567-89-01",
                                    "POSITION": "CLUB ADVISOR"
                                },
                                {
                                    "NAME": "LUCY",
                                    "LASTNAME": "WILLIAMS",
                                    "EPOST": "LUCYWILLIAMSLIBRARY@GMAIL.COM",
                                    "NUMBER": "075-678-90-12",
                                    "POSITION": "LIBRARIAN"
                                },
                                {
                                    "NAME": "NATHAN",
                                    "LASTNAME": "MARTIN",
                                    "EPOST": "NATHANMARTINITSUPPORT@GMAIL.COM",
                                    "NUMBER": "076-789-01-23",
                                    "POSITION": "IT SUPPORT"
                                },
                                {
                                    "NAME": "VICTORIA",
                                    "LASTNAME": "TAYLOR",
                                    "EPOST": "VICTORIATAYLORFINANCE@GMAIL.COM",
                                    "NUMBER": "077-890-12-34",
                                    "POSITION": "FINANCE OFFICER"
                                },
                                {
                                    "NAME": "OLIVER",
                                    "LASTNAME": "BROWN",
                                    "EPOST": "OLIVERBROWNASSISTANT@GMAIL.COM",
                                    "NUMBER": "078-901-23-45",
                                    "POSITION": "TEACHING ASSISTANT"
                                }
                            ]
                        },
                        "text/html": [
                            "<table>",
                            "<tr><th>NAME</th><th>LASTNAME</th><th>EPOST</th><th>NUMBER</th><th>POSITION</th></tr>",
                            "<tr><td>INGER</td><td>LARSSON</td><td>INGER2@GMAIL.COM</td><td>072-154-13-34</td><td>TEACHER</td></tr>",
                            "<tr><td>JAN</td><td>ANDER</td><td>JAN4@GMAIL.COM</td><td>072-143-32-22</td><td>TEACHER</td></tr>",
                            "<tr><td>GANDALF</td><td>WHITE</td><td>GANDALFSAVEFRODO@GMAIL.COM</td><td>072-240-00</td><td>PRINCIPAL</td></tr>",
                            "<tr><td>ARAGORN</td><td>PURE</td><td>ARAGORN@GMAIL.COM</td><td>072-144-56-45</td><td>TEACHER</td></tr>",
                            "<tr><td>GIMLI</td><td>FAT</td><td>GIMLI@GMAIL.COM</td><td>072-154-45-43</td><td>TEACHER</td></tr>",
                            "<tr><td>ELENA</td><td>SMITH</td><td>ELENASMITHCLUB@GMAIL.COM</td><td>073-456-78-90</td><td>CLUB ADVISOR</td></tr>",
                            "<tr><td>MARCUS</td><td>JOHNSON</td><td>MARCUSJOHNSONCLUB@GMAIL.COM</td><td>074-567-89-01</td><td>CLUB ADVISOR</td></tr>",
                            "<tr><td>LUCY</td><td>WILLIAMS</td><td>LUCYWILLIAMSLIBRARY@GMAIL.COM</td><td>075-678-90-12</td><td>LIBRARIAN</td></tr>",
                            "<tr><td>NATHAN</td><td>MARTIN</td><td>NATHANMARTINITSUPPORT@GMAIL.COM</td><td>076-789-01-23</td><td>IT SUPPORT</td></tr>",
                            "<tr><td>VICTORIA</td><td>TAYLOR</td><td>VICTORIATAYLORFINANCE@GMAIL.COM</td><td>077-890-12-34</td><td>FINANCE OFFICER</td></tr>",
                            "<tr><td>OLIVER</td><td>BROWN</td><td>OLIVERBROWNASSISTANT@GMAIL.COM</td><td>078-901-23-45</td><td>TEACHING ASSISTANT</td></tr>",
                            "</table>"
                        ]
                    }
                }
            ],
            "execution_count": 63
        },
        {
            "cell_type": "code",
            "source": [
                "SELECT \r\n",
                "STUDENTS.NAME,\r\n",
                "STUDENTS.LASTNAME,\r\n",
                "SUBJECTS.SUBJECTS,\r\n",
                "GRADES.DATE,\r\n",
                "GRADETYPE.GRADE\r\n",
                "FROM STUDENTS\r\n",
                "JOIN GRADES ON GRADES.STUDENTID = STUDENTS.STUDENTID\r\n",
                "JOIN SUBJECTS ON SUBJECTS.SUBJECTID = GRADES.SUBJECTID\r\n",
                "JOIN GRADETYPE ON GRADETYPE.ID = GRADES.GRADETYPEID\r\n",
                "WHERE GRADES.DATE >= DATEADD(MONTH, -1, GETDATE())\r\n",
                "ORDER BY DATE ASC\r\n",
                ""
            ],
            "metadata": {
                "azdata_cell_guid": "7741b74a-7e35-4634-b6eb-5f3c4b718d18",
                "language": "sql",
                "tags": []
            },
            "outputs": [
                {
                    "output_type": "display_data",
                    "data": {
                        "text/html": "(63 rows affected)"
                    },
                    "metadata": {}
                },
                {
                    "output_type": "display_data",
                    "data": {
                        "text/html": "Total execution time: 00:00:00.013"
                    },
                    "metadata": {}
                },
                {
                    "output_type": "execute_result",
                    "metadata": {},
                    "execution_count": 65,
                    "data": {
                        "application/vnd.dataresource+json": {
                            "schema": {
                                "fields": [
                                    {
                                        "name": "NAME"
                                    },
                                    {
                                        "name": "LASTNAME"
                                    },
                                    {
                                        "name": "SUBJECTS"
                                    },
                                    {
                                        "name": "DATE"
                                    },
                                    {
                                        "name": "GRADE"
                                    }
                                ]
                            },
                            "data": [
                                {
                                    "NAME": "LIAM",
                                    "LASTNAME": "MILLER",
                                    "SUBJECTS": "ENGLISH",
                                    "DATE": "2024-12-30",
                                    "GRADE": "C"
                                },
                                {
                                    "NAME": "JULIA",
                                    "LASTNAME": "MORRISON",
                                    "SUBJECTS": "THE TWO TOWERS",
                                    "DATE": "2025-01-03",
                                    "GRADE": "C"
                                },
                                {
                                    "NAME": "JOSHUA",
                                    "LASTNAME": "PEREZ",
                                    "SUBJECTS": "THE TWO TOWERS",
                                    "DATE": "2025-01-03",
                                    "GRADE": "B"
                                },
                                {
                                    "NAME": "LIAM",
                                    "LASTNAME": "MILLER",
                                    "SUBJECTS": "GYMNASTICS",
                                    "DATE": "2025-01-04",
                                    "GRADE": "A"
                                },
                                {
                                    "NAME": "FROST",
                                    "LASTNAME": "ANDERSON",
                                    "SUBJECTS": "THE TWO TOWERS",
                                    "DATE": "2025-01-05",
                                    "GRADE": "C"
                                },
                                {
                                    "NAME": "LEAH",
                                    "LASTNAME": "GREEN",
                                    "SUBJECTS": "THE TWO TOWERS",
                                    "DATE": "2025-01-05",
                                    "GRADE": "B"
                                },
                                {
                                    "NAME": "JEREMY",
                                    "LASTNAME": "MURPHY",
                                    "SUBJECTS": "THE TWO TOWERS",
                                    "DATE": "2025-01-06",
                                    "GRADE": "B"
                                },
                                {
                                    "NAME": "ELSA",
                                    "LASTNAME": "PETTERSON",
                                    "SUBJECTS": "THE TWO TOWERS",
                                    "DATE": "2025-01-06",
                                    "GRADE": "B"
                                },
                                {
                                    "NAME": "LORE",
                                    "LASTNAME": "NORMAN",
                                    "SUBJECTS": "THE TWO TOWERS",
                                    "DATE": "2025-01-07",
                                    "GRADE": "A"
                                },
                                {
                                    "NAME": "ZOE",
                                    "LASTNAME": "LOPEZ",
                                    "SUBJECTS": "THE TWO TOWERS",
                                    "DATE": "2025-01-07",
                                    "GRADE": "D"
                                },
                                {
                                    "NAME": "ETHAN",
                                    "LASTNAME": "KING",
                                    "SUBJECTS": "THE TWO TOWERS",
                                    "DATE": "2025-01-07",
                                    "GRADE": "C"
                                },
                                {
                                    "NAME": "SAM",
                                    "LASTNAME": "WISE",
                                    "SUBJECTS": "MATHEMATICS",
                                    "DATE": "2025-01-08",
                                    "GRADE": "B"
                                },
                                {
                                    "NAME": "FRODO",
                                    "LASTNAME": "BAGGING",
                                    "SUBJECTS": "MATHEMATICS",
                                    "DATE": "2025-01-09",
                                    "GRADE": "C"
                                },
                                {
                                    "NAME": "GOLLUM",
                                    "LASTNAME": "HORROR",
                                    "SUBJECTS": "GYMNASTICS",
                                    "DATE": "2025-01-09",
                                    "GRADE": "A"
                                },
                                {
                                    "NAME": "SOPHIA",
                                    "LASTNAME": "BROWN",
                                    "SUBJECTS": "THE TWO TOWERS",
                                    "DATE": "2025-01-09",
                                    "GRADE": "C"
                                },
                                {
                                    "NAME": "HAILEY",
                                    "LASTNAME": "YOUNG",
                                    "SUBJECTS": "THE TWO TOWERS",
                                    "DATE": "2025-01-09",
                                    "GRADE": "A"
                                },
                                {
                                    "NAME": "EMILY",
                                    "LASTNAME": "JAMES",
                                    "SUBJECTS": "THE TWO TOWERS",
                                    "DATE": "2025-01-09",
                                    "GRADE": "B"
                                },
                                {
                                    "NAME": "GRACE",
                                    "LASTNAME": "LEE",
                                    "SUBJECTS": "THE TWO TOWERS",
                                    "DATE": "2025-01-10",
                                    "GRADE": "A"
                                },
                                {
                                    "NAME": "LARRY",
                                    "LASTNAME": "TAYLOR",
                                    "SUBJECTS": "THE TWO TOWERS",
                                    "DATE": "2025-01-10",
                                    "GRADE": "A"
                                },
                                {
                                    "NAME": "TIM",
                                    "LASTNAME": "PETERSEN",
                                    "SUBJECTS": "THE TWO TOWERS",
                                    "DATE": "2025-01-10",
                                    "GRADE": "A"
                                },
                                {
                                    "NAME": "NOAH",
                                    "LASTNAME": "GARCIA",
                                    "SUBJECTS": "THE TWO TOWERS",
                                    "DATE": "2025-01-11",
                                    "GRADE": "B"
                                },
                                {
                                    "NAME": "RYDER",
                                    "LASTNAME": "EVANS",
                                    "SUBJECTS": "THE TWO TOWERS",
                                    "DATE": "2025-01-11",
                                    "GRADE": "A"
                                },
                                {
                                    "NAME": "SARAH",
                                    "LASTNAME": "WILLIAMS",
                                    "SUBJECTS": "THE TWO TOWERS",
                                    "DATE": "2025-01-12",
                                    "GRADE": "B"
                                },
                                {
                                    "NAME": "BILBO",
                                    "LASTNAME": "BAGGEN",
                                    "SUBJECTS": "ENGLISH",
                                    "DATE": "2025-01-12",
                                    "GRADE": "D"
                                },
                                {
                                    "NAME": "VIKTOR",
                                    "LASTNAME": "CARTER",
                                    "SUBJECTS": "THE TWO TOWERS",
                                    "DATE": "2025-01-12",
                                    "GRADE": "A"
                                },
                                {
                                    "NAME": "LIAM",
                                    "LASTNAME": "MILLER",
                                    "SUBJECTS": "HISTORY",
                                    "DATE": "2025-01-12",
                                    "GRADE": "A"
                                },
                                {
                                    "NAME": "RYAN",
                                    "LASTNAME": "LEWIS",
                                    "SUBJECTS": "THE TWO TOWERS",
                                    "DATE": "2025-01-13",
                                    "GRADE": "C"
                                },
                                {
                                    "NAME": "ISAAC",
                                    "LASTNAME": "MARTIN",
                                    "SUBJECTS": "THE TWO TOWERS",
                                    "DATE": "2025-01-13",
                                    "GRADE": "B"
                                },
                                {
                                    "NAME": "AMELIA",
                                    "LASTNAME": "PARKER",
                                    "SUBJECTS": "THE TWO TOWERS",
                                    "DATE": "2025-01-14",
                                    "GRADE": "C"
                                },
                                {
                                    "NAME": "LEON",
                                    "LASTNAME": "PERRY",
                                    "SUBJECTS": "THE TWO TOWERS",
                                    "DATE": "2025-01-14",
                                    "GRADE": "C"
                                },
                                {
                                    "NAME": "LUCY",
                                    "LASTNAME": "CLARK",
                                    "SUBJECTS": "THE TWO TOWERS",
                                    "DATE": "2025-01-14",
                                    "GRADE": "B"
                                },
                                {
                                    "NAME": "CALVIN",
                                    "LASTNAME": "KIM",
                                    "SUBJECTS": "THE TWO TOWERS",
                                    "DATE": "2025-01-14",
                                    "GRADE": "B"
                                },
                                {
                                    "NAME": "OLIVIA",
                                    "LASTNAME": "TAYLOR",
                                    "SUBJECTS": "THE TWO TOWERS",
                                    "DATE": "2025-01-14",
                                    "GRADE": "D"
                                },
                                {
                                    "NAME": "EMMA",
                                    "LASTNAME": "DAVIS",
                                    "SUBJECTS": "THE TWO TOWERS",
                                    "DATE": "2025-01-15",
                                    "GRADE": "A"
                                },
                                {
                                    "NAME": "JAMES",
                                    "LASTNAME": "WILLIAMS",
                                    "SUBJECTS": "THE TWO TOWERS",
                                    "DATE": "2025-01-15",
                                    "GRADE": "A"
                                },
                                {
                                    "NAME": "MASON",
                                    "LASTNAME": "HARRIS",
                                    "SUBJECTS": "THE TWO TOWERS",
                                    "DATE": "2025-01-15",
                                    "GRADE": "A"
                                },
                                {
                                    "NAME": "TYLER",
                                    "LASTNAME": "HERNANDEZ",
                                    "SUBJECTS": "THE TWO TOWERS",
                                    "DATE": "2025-01-15",
                                    "GRADE": "B"
                                },
                                {
                                    "NAME": "MATT",
                                    "LASTNAME": "MARTINEZ",
                                    "SUBJECTS": "THE TWO TOWERS",
                                    "DATE": "2025-01-16",
                                    "GRADE": "A"
                                },
                                {
                                    "NAME": "ALICE",
                                    "LASTNAME": "THOMAS",
                                    "SUBJECTS": "THE TWO TOWERS",
                                    "DATE": "2025-01-17",
                                    "GRADE": "C"
                                },
                                {
                                    "NAME": "EVELYN",
                                    "LASTNAME": "GARCIA",
                                    "SUBJECTS": "THE TWO TOWERS",
                                    "DATE": "2025-01-17",
                                    "GRADE": "C"
                                },
                                {
                                    "NAME": "EVA",
                                    "LASTNAME": "HALL",
                                    "SUBJECTS": "THE TWO TOWERS",
                                    "DATE": "2025-01-18",
                                    "GRADE": "B"
                                },
                                {
                                    "NAME": "ALEX",
                                    "LASTNAME": "HERNANDEZ",
                                    "SUBJECTS": "THE TWO TOWERS",
                                    "DATE": "2025-01-18",
                                    "GRADE": "C"
                                },
                                {
                                    "NAME": "AVA",
                                    "LASTNAME": "RODRIGUEZ",
                                    "SUBJECTS": "THE TWO TOWERS",
                                    "DATE": "2025-01-19",
                                    "GRADE": "C"
                                },
                                {
                                    "NAME": "CHLOE",
                                    "LASTNAME": "ALLEN",
                                    "SUBJECTS": "THE TWO TOWERS",
                                    "DATE": "2025-01-20",
                                    "GRADE": "A"
                                },
                                {
                                    "NAME": "LIAM",
                                    "LASTNAME": "MILLER",
                                    "SUBJECTS": "THE TWO TOWERS",
                                    "DATE": "2025-01-20",
                                    "GRADE": "B"
                                },
                                {
                                    "NAME": "JACK",
                                    "LASTNAME": "MARTIN",
                                    "SUBJECTS": "THE TWO TOWERS",
                                    "DATE": "2025-01-20",
                                    "GRADE": "A"
                                },
                                {
                                    "NAME": "KAI",
                                    "LASTNAME": "ROBINSON",
                                    "SUBJECTS": "THE TWO TOWERS",
                                    "DATE": "2025-01-20",
                                    "GRADE": "B"
                                },
                                {
                                    "NAME": "LILLIE",
                                    "LASTNAME": "MORRIS",
                                    "SUBJECTS": "THE TWO TOWERS",
                                    "DATE": "2025-01-20",
                                    "GRADE": "A"
                                },
                                {
                                    "NAME": "JASON",
                                    "LASTNAME": "ROBERTS",
                                    "SUBJECTS": "THE TWO TOWERS",
                                    "DATE": "2025-01-21",
                                    "GRADE": "C"
                                },
                                {
                                    "NAME": "SETH",
                                    "LASTNAME": "WHITE",
                                    "SUBJECTS": "THE TWO TOWERS",
                                    "DATE": "2025-01-21",
                                    "GRADE": "B"
                                },
                                {
                                    "NAME": "NATALIE",
                                    "LASTNAME": "MARTIN",
                                    "SUBJECTS": "THE TWO TOWERS",
                                    "DATE": "2025-01-23",
                                    "GRADE": "C"
                                },
                                {
                                    "NAME": "LILY",
                                    "LASTNAME": "ADAMS",
                                    "SUBJECTS": "THE TWO TOWERS",
                                    "DATE": "2025-01-24",
                                    "GRADE": "B"
                                },
                                {
                                    "NAME": "DANIEL",
                                    "LASTNAME": "MOORE",
                                    "SUBJECTS": "THE TWO TOWERS",
                                    "DATE": "2025-01-25",
                                    "GRADE": "B"
                                },
                                {
                                    "NAME": "MIA",
                                    "LASTNAME": "SCOTT",
                                    "SUBJECTS": "THE TWO TOWERS",
                                    "DATE": "2025-01-25",
                                    "GRADE": "C"
                                },
                                {
                                    "NAME": "ISABEL",
                                    "LASTNAME": "BROWN",
                                    "SUBJECTS": "THE TWO TOWERS",
                                    "DATE": "2025-01-25",
                                    "GRADE": "C"
                                },
                                {
                                    "NAME": "LUCAS",
                                    "LASTNAME": "WALKER",
                                    "SUBJECTS": "THE TWO TOWERS",
                                    "DATE": "2025-01-27",
                                    "GRADE": "A"
                                },
                                {
                                    "NAME": "ELENI",
                                    "LASTNAME": "NAMI",
                                    "SUBJECTS": "MUSIC",
                                    "DATE": "2025-02-01",
                                    "GRADE": "E"
                                },
                                {
                                    "NAME": "PANAGOTIS",
                                    "LASTNAME": "JUMO",
                                    "SUBJECTS": "MUSIC",
                                    "DATE": "2025-02-01",
                                    "GRADE": "A"
                                },
                                {
                                    "NAME": "DIMITROS",
                                    "LASTNAME": "LUVOIENTOS",
                                    "SUBJECTS": "MUSIC",
                                    "DATE": "2025-02-01",
                                    "GRADE": "E"
                                },
                                {
                                    "NAME": "TSOUKALAS",
                                    "LASTNAME": "GRIMLI",
                                    "SUBJECTS": "MUSIC",
                                    "DATE": "2025-02-01",
                                    "GRADE": "F"
                                },
                                {
                                    "NAME": "ZERVAS",
                                    "LASTNAME": "NEAS",
                                    "SUBJECTS": "MUSIC",
                                    "DATE": "2025-02-01",
                                    "GRADE": "E"
                                },
                                {
                                    "NAME": "ANASTASADIAS",
                                    "LASTNAME": "CELOPATRA",
                                    "SUBJECTS": "MUSIC",
                                    "DATE": "2025-02-01",
                                    "GRADE": "C"
                                },
                                {
                                    "NAME": "GREEKO",
                                    "LASTNAME": "LEMENANOS",
                                    "SUBJECTS": "MUSIC",
                                    "DATE": "2025-02-01",
                                    "GRADE": "B"
                                }
                            ]
                        },
                        "text/html": [
                            "<table>",
                            "<tr><th>NAME</th><th>LASTNAME</th><th>SUBJECTS</th><th>DATE</th><th>GRADE</th></tr>",
                            "<tr><td>LIAM</td><td>MILLER</td><td>ENGLISH</td><td>2024-12-30</td><td>C</td></tr>",
                            "<tr><td>JULIA</td><td>MORRISON</td><td>THE TWO TOWERS</td><td>2025-01-03</td><td>C</td></tr>",
                            "<tr><td>JOSHUA</td><td>PEREZ</td><td>THE TWO TOWERS</td><td>2025-01-03</td><td>B</td></tr>",
                            "<tr><td>LIAM</td><td>MILLER</td><td>GYMNASTICS</td><td>2025-01-04</td><td>A</td></tr>",
                            "<tr><td>FROST</td><td>ANDERSON</td><td>THE TWO TOWERS</td><td>2025-01-05</td><td>C</td></tr>",
                            "<tr><td>LEAH</td><td>GREEN</td><td>THE TWO TOWERS</td><td>2025-01-05</td><td>B</td></tr>",
                            "<tr><td>JEREMY</td><td>MURPHY</td><td>THE TWO TOWERS</td><td>2025-01-06</td><td>B</td></tr>",
                            "<tr><td>ELSA</td><td>PETTERSON</td><td>THE TWO TOWERS</td><td>2025-01-06</td><td>B</td></tr>",
                            "<tr><td>LORE</td><td>NORMAN</td><td>THE TWO TOWERS</td><td>2025-01-07</td><td>A</td></tr>",
                            "<tr><td>ZOE</td><td>LOPEZ</td><td>THE TWO TOWERS</td><td>2025-01-07</td><td>D</td></tr>",
                            "<tr><td>ETHAN</td><td>KING</td><td>THE TWO TOWERS</td><td>2025-01-07</td><td>C</td></tr>",
                            "<tr><td>SAM</td><td>WISE</td><td>MATHEMATICS</td><td>2025-01-08</td><td>B</td></tr>",
                            "<tr><td>FRODO</td><td>BAGGING</td><td>MATHEMATICS</td><td>2025-01-09</td><td>C</td></tr>",
                            "<tr><td>GOLLUM</td><td>HORROR</td><td>GYMNASTICS</td><td>2025-01-09</td><td>A</td></tr>",
                            "<tr><td>SOPHIA</td><td>BROWN</td><td>THE TWO TOWERS</td><td>2025-01-09</td><td>C</td></tr>",
                            "<tr><td>HAILEY</td><td>YOUNG</td><td>THE TWO TOWERS</td><td>2025-01-09</td><td>A</td></tr>",
                            "<tr><td>EMILY</td><td>JAMES</td><td>THE TWO TOWERS</td><td>2025-01-09</td><td>B</td></tr>",
                            "<tr><td>GRACE</td><td>LEE</td><td>THE TWO TOWERS</td><td>2025-01-10</td><td>A</td></tr>",
                            "<tr><td>LARRY</td><td>TAYLOR</td><td>THE TWO TOWERS</td><td>2025-01-10</td><td>A</td></tr>",
                            "<tr><td>TIM</td><td>PETERSEN</td><td>THE TWO TOWERS</td><td>2025-01-10</td><td>A</td></tr>",
                            "<tr><td>NOAH</td><td>GARCIA</td><td>THE TWO TOWERS</td><td>2025-01-11</td><td>B</td></tr>",
                            "<tr><td>RYDER</td><td>EVANS</td><td>THE TWO TOWERS</td><td>2025-01-11</td><td>A</td></tr>",
                            "<tr><td>SARAH</td><td>WILLIAMS</td><td>THE TWO TOWERS</td><td>2025-01-12</td><td>B</td></tr>",
                            "<tr><td>BILBO</td><td>BAGGEN</td><td>ENGLISH</td><td>2025-01-12</td><td>D</td></tr>",
                            "<tr><td>VIKTOR</td><td>CARTER</td><td>THE TWO TOWERS</td><td>2025-01-12</td><td>A</td></tr>",
                            "<tr><td>LIAM</td><td>MILLER</td><td>HISTORY</td><td>2025-01-12</td><td>A</td></tr>",
                            "<tr><td>RYAN</td><td>LEWIS</td><td>THE TWO TOWERS</td><td>2025-01-13</td><td>C</td></tr>",
                            "<tr><td>ISAAC</td><td>MARTIN</td><td>THE TWO TOWERS</td><td>2025-01-13</td><td>B</td></tr>",
                            "<tr><td>AMELIA</td><td>PARKER</td><td>THE TWO TOWERS</td><td>2025-01-14</td><td>C</td></tr>",
                            "<tr><td>LEON</td><td>PERRY</td><td>THE TWO TOWERS</td><td>2025-01-14</td><td>C</td></tr>",
                            "<tr><td>LUCY</td><td>CLARK</td><td>THE TWO TOWERS</td><td>2025-01-14</td><td>B</td></tr>",
                            "<tr><td>CALVIN</td><td>KIM</td><td>THE TWO TOWERS</td><td>2025-01-14</td><td>B</td></tr>",
                            "<tr><td>OLIVIA</td><td>TAYLOR</td><td>THE TWO TOWERS</td><td>2025-01-14</td><td>D</td></tr>",
                            "<tr><td>EMMA</td><td>DAVIS</td><td>THE TWO TOWERS</td><td>2025-01-15</td><td>A</td></tr>",
                            "<tr><td>JAMES</td><td>WILLIAMS</td><td>THE TWO TOWERS</td><td>2025-01-15</td><td>A</td></tr>",
                            "<tr><td>MASON</td><td>HARRIS</td><td>THE TWO TOWERS</td><td>2025-01-15</td><td>A</td></tr>",
                            "<tr><td>TYLER</td><td>HERNANDEZ</td><td>THE TWO TOWERS</td><td>2025-01-15</td><td>B</td></tr>",
                            "<tr><td>MATT</td><td>MARTINEZ</td><td>THE TWO TOWERS</td><td>2025-01-16</td><td>A</td></tr>",
                            "<tr><td>ALICE</td><td>THOMAS</td><td>THE TWO TOWERS</td><td>2025-01-17</td><td>C</td></tr>",
                            "<tr><td>EVELYN</td><td>GARCIA</td><td>THE TWO TOWERS</td><td>2025-01-17</td><td>C</td></tr>",
                            "<tr><td>EVA</td><td>HALL</td><td>THE TWO TOWERS</td><td>2025-01-18</td><td>B</td></tr>",
                            "<tr><td>ALEX</td><td>HERNANDEZ</td><td>THE TWO TOWERS</td><td>2025-01-18</td><td>C</td></tr>",
                            "<tr><td>AVA</td><td>RODRIGUEZ</td><td>THE TWO TOWERS</td><td>2025-01-19</td><td>C</td></tr>",
                            "<tr><td>CHLOE</td><td>ALLEN</td><td>THE TWO TOWERS</td><td>2025-01-20</td><td>A</td></tr>",
                            "<tr><td>LIAM</td><td>MILLER</td><td>THE TWO TOWERS</td><td>2025-01-20</td><td>B</td></tr>",
                            "<tr><td>JACK</td><td>MARTIN</td><td>THE TWO TOWERS</td><td>2025-01-20</td><td>A</td></tr>",
                            "<tr><td>KAI</td><td>ROBINSON</td><td>THE TWO TOWERS</td><td>2025-01-20</td><td>B</td></tr>",
                            "<tr><td>LILLIE</td><td>MORRIS</td><td>THE TWO TOWERS</td><td>2025-01-20</td><td>A</td></tr>",
                            "<tr><td>JASON</td><td>ROBERTS</td><td>THE TWO TOWERS</td><td>2025-01-21</td><td>C</td></tr>",
                            "<tr><td>SETH</td><td>WHITE</td><td>THE TWO TOWERS</td><td>2025-01-21</td><td>B</td></tr>",
                            "<tr><td>NATALIE</td><td>MARTIN</td><td>THE TWO TOWERS</td><td>2025-01-23</td><td>C</td></tr>",
                            "<tr><td>LILY</td><td>ADAMS</td><td>THE TWO TOWERS</td><td>2025-01-24</td><td>B</td></tr>",
                            "<tr><td>DANIEL</td><td>MOORE</td><td>THE TWO TOWERS</td><td>2025-01-25</td><td>B</td></tr>",
                            "<tr><td>MIA</td><td>SCOTT</td><td>THE TWO TOWERS</td><td>2025-01-25</td><td>C</td></tr>",
                            "<tr><td>ISABEL</td><td>BROWN</td><td>THE TWO TOWERS</td><td>2025-01-25</td><td>C</td></tr>",
                            "<tr><td>LUCAS</td><td>WALKER</td><td>THE TWO TOWERS</td><td>2025-01-27</td><td>A</td></tr>",
                            "<tr><td>ELENI</td><td>NAMI</td><td>MUSIC</td><td>2025-02-01</td><td>E</td></tr>",
                            "<tr><td>PANAGOTIS</td><td>JUMO</td><td>MUSIC</td><td>2025-02-01</td><td>A</td></tr>",
                            "<tr><td>DIMITROS</td><td>LUVOIENTOS</td><td>MUSIC</td><td>2025-02-01</td><td>E</td></tr>",
                            "<tr><td>TSOUKALAS</td><td>GRIMLI</td><td>MUSIC</td><td>2025-02-01</td><td>F</td></tr>",
                            "<tr><td>ZERVAS</td><td>NEAS</td><td>MUSIC</td><td>2025-02-01</td><td>E</td></tr>",
                            "<tr><td>ANASTASADIAS</td><td>CELOPATRA</td><td>MUSIC</td><td>2025-02-01</td><td>C</td></tr>",
                            "<tr><td>GREEKO</td><td>LEMENANOS</td><td>MUSIC</td><td>2025-02-01</td><td>B</td></tr>",
                            "</table>"
                        ]
                    }
                }
            ],
            "execution_count": 65
        },
        {
            "cell_type": "code",
            "source": [
                "WITH GRADESASINT AS(\r\n",
                "SELECT \r\n",
                "SUBJECTS.SUBJECTS,\r\n",
                "GRADETYPE.GRADE,\r\n",
                "CASE\r\n",
                "WHEN GRADETYPE.GRADE = 'A' THEN 5\r\n",
                "WHEN GRADETYPE.GRADE = 'B' THEN 4\r\n",
                "WHEN GRADETYPE.GRADE = 'C' THEN 3\r\n",
                "WHEN GRADETYPE.GRADE = 'D' THEN 2\r\n",
                "WHEN GRADETYPE.GRADE = 'E' THEN 1\r\n",
                "WHEN GRADETYPE.GRADE = 'F' THEN 0\r\n",
                "ELSE 0 \r\n",
                "END AS SNITTBETYG\r\n",
                "FROM GRADES\r\n",
                "JOIN SUBJECTS ON GRADES.SUBJECTID = SUBJECTS.SUBJECTID\r\n",
                "JOIN GRADETYPE ON GRADETYPE.ID = GRADES.GRADETYPEID\r\n",
                ")\r\n",
                "SELECT\r\n",
                "SUBJECTS,\r\n",
                "MIN(SNITTBETYG) AS MIN,\r\n",
                "MAX(SNITTBETYG) AS MAX,\r\n",
                "AVG(SNITTBETYG) AS AVG\r\n",
                "FROM GRADESASINT\r\n",
                "GROUP BY SUBJECTS"
            ],
            "metadata": {
                "language": "sql",
                "azdata_cell_guid": "155a25df-de47-40f5-ba41-757a2e06c8aa",
                "tags": []
            },
            "outputs": [
                {
                    "output_type": "display_data",
                    "data": {
                        "text/html": "(6 rows affected)"
                    },
                    "metadata": {}
                },
                {
                    "output_type": "display_data",
                    "data": {
                        "text/html": "Total execution time: 00:00:00.002"
                    },
                    "metadata": {}
                },
                {
                    "output_type": "execute_result",
                    "metadata": {},
                    "execution_count": 58,
                    "data": {
                        "application/vnd.dataresource+json": {
                            "schema": {
                                "fields": [
                                    {
                                        "name": "SUBJECTS"
                                    },
                                    {
                                        "name": "MIN"
                                    },
                                    {
                                        "name": "MAX"
                                    },
                                    {
                                        "name": "AVG"
                                    }
                                ]
                            },
                            "data": [
                                {
                                    "SUBJECTS": "ENGLISH",
                                    "MIN": "2",
                                    "MAX": "5",
                                    "AVG": "4"
                                },
                                {
                                    "SUBJECTS": "GYMNASTICS",
                                    "MIN": "2",
                                    "MAX": "5",
                                    "AVG": "3"
                                },
                                {
                                    "SUBJECTS": "HISTORY",
                                    "MIN": "2",
                                    "MAX": "5",
                                    "AVG": "3"
                                },
                                {
                                    "SUBJECTS": "MATHEMATICS",
                                    "MIN": "2",
                                    "MAX": "5",
                                    "AVG": "4"
                                },
                                {
                                    "SUBJECTS": "MUSIC",
                                    "MIN": "0",
                                    "MAX": "5",
                                    "AVG": "2"
                                },
                                {
                                    "SUBJECTS": "THE TWO TOWERS",
                                    "MIN": "2",
                                    "MAX": "5",
                                    "AVG": "3"
                                }
                            ]
                        },
                        "text/html": [
                            "<table>",
                            "<tr><th>SUBJECTS</th><th>MIN</th><th>MAX</th><th>AVG</th></tr>",
                            "<tr><td>ENGLISH</td><td>2</td><td>5</td><td>4</td></tr>",
                            "<tr><td>GYMNASTICS</td><td>2</td><td>5</td><td>3</td></tr>",
                            "<tr><td>HISTORY</td><td>2</td><td>5</td><td>3</td></tr>",
                            "<tr><td>MATHEMATICS</td><td>2</td><td>5</td><td>4</td></tr>",
                            "<tr><td>MUSIC</td><td>0</td><td>5</td><td>2</td></tr>",
                            "<tr><td>THE TWO TOWERS</td><td>2</td><td>5</td><td>3</td></tr>",
                            "</table>"
                        ]
                    }
                }
            ],
            "execution_count": 58
        },
        {
            "cell_type": "code",
            "source": [
                "EXEC INSTERTSTUDENTS\r\n",
                "@NAME = 'LEONARDO',\r\n",
                "@LASTNAME = 'DAVINCI',\r\n",
                "@PERSONUMBER = '32475333',\r\n",
                "@EPOST = 'LEONARDO@GMAIL.COM',\r\n",
                "@CLASSID = 6"
            ],
            "metadata": {
                "language": "sql",
                "azdata_cell_guid": "3d59da60-fb57-4931-9b0b-6583b88a6953",
                "tags": []
            },
            "outputs": [
                {
                    "output_type": "display_data",
                    "data": {
                        "text/html": "(1 row affected)"
                    },
                    "metadata": {}
                },
                {
                    "output_type": "display_data",
                    "data": {
                        "text/html": "Total execution time: 00:00:00.004"
                    },
                    "metadata": {}
                }
            ],
            "execution_count": 62
        }
    ]
}